{
 "cells": [
  {
   "cell_type": "code",
   "execution_count": null,
   "metadata": {},
   "outputs": [],
   "source": [
    "class Hero:\n",
    "    def __init__(self, x, y):\n",
    "        self.name = x\n",
    "        self.power = y\n",
    "        \n",
    "\n",
    "\n",
    "heroOne = Hero('Alucard', 100)\n",
    "heroTwo = Hero('Lancelot', 1)\n",
    "\n",
    "print(heroOne.name, heroOne.power)\n",
    "print(heroOne.power)\n"
   ]
  }
 ],
 "metadata": {
  "kernelspec": {
   "display_name": "mahasin",
   "language": "python",
   "name": "python3"
  },
  "language_info": {
   "name": "python",
   "version": "3.11.4"
  }
 },
 "nbformat": 4,
 "nbformat_minor": 2
}
